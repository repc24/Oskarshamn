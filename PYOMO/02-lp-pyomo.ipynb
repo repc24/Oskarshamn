{
 "cells": [
  {
   "cell_type": "markdown",
   "metadata": {},
   "source": [
    "## Problem Statement\n",
    "\n",
    "*Exercise 2.12 from Operations Research: Models and Methods by Jensen & Bard*\n",
    "\n",
    "Ten jobs are to be completed by three workers during the next week. Each worker has a 40-hour work week. The times for the workers to complete the jobs are shown in the table. The values in the cells assume that each job is completed by a single worker; however, jobs can be shared, with completion times being determined proportionally If no entry exists in a particular cell, it means that the corresponding job cannot be performed by the corresponding worker. Set up and solve an LP model that will determine the optimal assignment of workers to jobs. The goal is to minimize the total time required to complete all the jobs.\n",
    "\n",
    "| Workers \\ Tasks |  1 |  2 |  3 |  4 |  5 |  6 |  7 |  8 |  9 | 10 |\n",
    "|:---------------:|---:|---:|---:|---:|---:|---:|---:|---:|---:|---:|\n",
    "| A               |  - |  7 |  3 |  - |  - | 18 | 13 |  6 |  - |  9 |\n",
    "| B               | 12 |  5 |  - | 12 |  4 | 22 |  - | 17 | 13 |  - |\n",
    "| C               | 18 |  - |  6 |  8 | 10 |  - | 19 |  - |  8 | 15 |"
   ]
  },
  {
   "cell_type": "markdown",
   "metadata": {},
   "source": [
    "## Import"
   ]
  },
  {
   "cell_type": "code",
   "execution_count": 1,
   "metadata": {},
   "outputs": [],
   "source": [
    "import pandas as pd\n",
    "import pyomo.environ as pe\n",
    "import pyomo.opt as po"
   ]
  },
  {
   "cell_type": "markdown",
   "metadata": {},
   "source": [
    "## Define Data"
   ]
  },
  {
   "cell_type": "code",
   "execution_count": 2,
   "metadata": {},
   "outputs": [
    {
     "data": {
      "text/plain": [
       "[1, 2, 3, 4, 5, 6, 7, 8, 9, 10]"
      ]
     },
     "execution_count": 2,
     "metadata": {},
     "output_type": "execute_result"
    }
   ],
   "source": [
    "workers = ['A', 'B', 'C']\n",
    "\n",
    "tasks = list(range(1, 11))\n",
    "\n",
    "c = {\n",
    "    ('A',  2):  7,\n",
    "    ('A',  3):  3,\n",
    "    ('A',  6): 18,\n",
    "    ('A',  7): 13,\n",
    "    ('A',  8):  6,\n",
    "    ('A', 10):  9,\n",
    "    ('B',  1): 12,\n",
    "    ('B',  2):  5,\n",
    "    ('B',  4): 12,\n",
    "    ('B',  5):  4,\n",
    "    ('B',  6): 22,\n",
    "    ('B',  8): 17,\n",
    "    ('B',  9): 13,\n",
    "    ('C',  1): 18,\n",
    "    ('C',  3):  6,\n",
    "    ('C',  4):  8,\n",
    "    ('C',  5): 10,\n",
    "    ('C',  7): 19,\n",
    "    ('C',  9):  8,\n",
    "    ('C', 10): 15,\n",
    "}\n",
    "\n",
    "max_hours = 40\n",
    "tasks"
   ]
  },
  {
   "cell_type": "markdown",
   "metadata": {},
   "source": [
    "## Model\n",
    "Define $W$ as the set of workers and $T$ as the sets of tasks. Also, define $c_{wt}$ as the number of hours worker $w$ requires to complete task $t$. (Note that we do not explicitly prohibit a worker from completiting as task; rather, we make the cost arbitrarily large if worker $w$ is unable to perform task $t$.) Let $x_{wt}$ be the proportion of task $t$ that is completed by worker $j$. Let $H$ be the max number of hours that any single worker may log in a week. We formulate as follows.\n",
    "\n",
    "\n",
    "$$\n",
    "\\begin{alignat*}{3}\n",
    "\\text{minimize  }  & \\sum_{w \\in W} \\sum_{t \\in T} c_{wt} x_{wt} && \\\\\n",
    "\\text{subject to  }\n",
    "& \\sum_{t \\in T} c_{wt} x_{wt} \\le H,\n",
    "&& \\qquad \\forall w \\in W \\\\\n",
    "& \\sum_{w \\in W} x_{wt} = 1\n",
    "&& \\qquad \\forall t \\in T \\\\\n",
    "& 0 \\le x_{wt} \\le 1,\n",
    "&& \\qquad \\forall w \\in W, \\forall t \\in T\n",
    "\\end{alignat*}\n",
    "$$"
   ]
  },
  {
   "cell_type": "markdown",
   "metadata": {},
   "source": [
    "## Implement"
   ]
  },
  {
   "cell_type": "code",
   "execution_count": 3,
   "metadata": {},
   "outputs": [],
   "source": [
    "model = pe.ConcreteModel()"
   ]
  },
  {
   "cell_type": "code",
   "execution_count": 4,
   "metadata": {},
   "outputs": [],
   "source": [
    "model.workers = pe.Set(initialize=workers)\n",
    "model.tasks = pe.Set(initialize=tasks)"
   ]
  },
  {
   "cell_type": "code",
   "execution_count": 5,
   "metadata": {},
   "outputs": [],
   "source": [
    "model.c = pe.Param(model.workers, model.tasks, initialize=c, default=1000)\n",
    "model.max_hours = pe.Param(initialize=max_hours)"
   ]
  },
  {
   "cell_type": "code",
   "execution_count": 6,
   "metadata": {},
   "outputs": [],
   "source": [
    "model.x = pe.Var(model.workers, model.tasks, domain=pe.Reals, bounds=(0, 1))"
   ]
  },
  {
   "cell_type": "code",
   "execution_count": 7,
   "metadata": {},
   "outputs": [
    {
     "name": "stdout",
     "output_type": "stream",
     "text": [
      "Model unknown\n",
      "\n",
      "  Variables:\n",
      "    x : Size=30, Index=x_index\n",
      "        Key       : Lower : Value : Upper : Fixed : Stale : Domain\n",
      "         ('A', 1) :     0 :  None :     1 : False :  True :  Reals\n",
      "         ('A', 2) :     0 :  None :     1 : False :  True :  Reals\n",
      "         ('A', 3) :     0 :  None :     1 : False :  True :  Reals\n",
      "         ('A', 4) :     0 :  None :     1 : False :  True :  Reals\n",
      "         ('A', 5) :     0 :  None :     1 : False :  True :  Reals\n",
      "         ('A', 6) :     0 :  None :     1 : False :  True :  Reals\n",
      "         ('A', 7) :     0 :  None :     1 : False :  True :  Reals\n",
      "         ('A', 8) :     0 :  None :     1 : False :  True :  Reals\n",
      "         ('A', 9) :     0 :  None :     1 : False :  True :  Reals\n",
      "        ('A', 10) :     0 :  None :     1 : False :  True :  Reals\n",
      "         ('B', 1) :     0 :  None :     1 : False :  True :  Reals\n",
      "         ('B', 2) :     0 :  None :     1 : False :  True :  Reals\n",
      "         ('B', 3) :     0 :  None :     1 : False :  True :  Reals\n",
      "         ('B', 4) :     0 :  None :     1 : False :  True :  Reals\n",
      "         ('B', 5) :     0 :  None :     1 : False :  True :  Reals\n",
      "         ('B', 6) :     0 :  None :     1 : False :  True :  Reals\n",
      "         ('B', 7) :     0 :  None :     1 : False :  True :  Reals\n",
      "         ('B', 8) :     0 :  None :     1 : False :  True :  Reals\n",
      "         ('B', 9) :     0 :  None :     1 : False :  True :  Reals\n",
      "        ('B', 10) :     0 :  None :     1 : False :  True :  Reals\n",
      "         ('C', 1) :     0 :  None :     1 : False :  True :  Reals\n",
      "         ('C', 2) :     0 :  None :     1 : False :  True :  Reals\n",
      "         ('C', 3) :     0 :  None :     1 : False :  True :  Reals\n",
      "         ('C', 4) :     0 :  None :     1 : False :  True :  Reals\n",
      "         ('C', 5) :     0 :  None :     1 : False :  True :  Reals\n",
      "         ('C', 6) :     0 :  None :     1 : False :  True :  Reals\n",
      "         ('C', 7) :     0 :  None :     1 : False :  True :  Reals\n",
      "         ('C', 8) :     0 :  None :     1 : False :  True :  Reals\n",
      "         ('C', 9) :     0 :  None :     1 : False :  True :  Reals\n",
      "        ('C', 10) :     0 :  None :     1 : False :  True :  Reals\n",
      "\n",
      "  Objectives:\n",
      "    None\n",
      "\n",
      "  Constraints:\n",
      "    None\n"
     ]
    }
   ],
   "source": [
    "model.display()"
   ]
  },
  {
   "cell_type": "code",
   "execution_count": 8,
   "metadata": {},
   "outputs": [],
   "source": [
    "expr = sum(model.c[w, t] * model.x[w, t]\n",
    "           for w in model.workers for t in model.tasks)\n",
    "model.objective = pe.Objective(sense=pe.minimize, expr=expr)"
   ]
  },
  {
   "cell_type": "code",
   "execution_count": 9,
   "metadata": {},
   "outputs": [
    {
     "name": "stdout",
     "output_type": "stream",
     "text": [
      "objective : Size=1, Index=None, Active=True\n",
      "ERROR: evaluating object as numeric value: x[A,1]\n",
      "        (object: <class 'pyomo.core.base.var._GeneralVarData'>)\n",
      "    No value for uninitialized NumericValue object x[A,1]\n",
      "ERROR: evaluating object as numeric value: objective\n",
      "        (object: <class 'pyomo.core.base.objective.ScalarObjective'>)\n",
      "    No value for uninitialized NumericValue object x[A,1]\n",
      "    Key : Active : Value\n",
      "    None :   None :  None\n"
     ]
    }
   ],
   "source": [
    "model.objective.display()"
   ]
  },
  {
   "cell_type": "code",
   "execution_count": 10,
   "metadata": {},
   "outputs": [],
   "source": [
    "model.tasks_done = pe.ConstraintList()\n",
    "for t in model.tasks:\n",
    "    lhs = sum(model.x[w, t] for w in model.workers)\n",
    "    rhs = 1\n",
    "    model.tasks_done.add(lhs == rhs)"
   ]
  },
  {
   "cell_type": "code",
   "execution_count": 11,
   "metadata": {},
   "outputs": [],
   "source": [
    "model.hour_limit = pe.ConstraintList()\n",
    "for w in model.workers:\n",
    "    lhs = sum(model.c[w, t] * model.x[w, t] for t in model.tasks)\n",
    "    rhs = model.max_hours\n",
    "    model.hour_limit.add(lhs <= rhs)"
   ]
  },
  {
   "cell_type": "code",
   "execution_count": 12,
   "metadata": {},
   "outputs": [
    {
     "name": "stdout",
     "output_type": "stream",
     "text": [
      "Model unknown\n",
      "\n",
      "  Variables:\n",
      "    x : Size=30, Index=x_index\n",
      "        Key       : Lower : Value : Upper : Fixed : Stale : Domain\n",
      "         ('A', 1) :     0 :  None :     1 : False :  True :  Reals\n",
      "         ('A', 2) :     0 :  None :     1 : False :  True :  Reals\n",
      "         ('A', 3) :     0 :  None :     1 : False :  True :  Reals\n",
      "         ('A', 4) :     0 :  None :     1 : False :  True :  Reals\n",
      "         ('A', 5) :     0 :  None :     1 : False :  True :  Reals\n",
      "         ('A', 6) :     0 :  None :     1 : False :  True :  Reals\n",
      "         ('A', 7) :     0 :  None :     1 : False :  True :  Reals\n",
      "         ('A', 8) :     0 :  None :     1 : False :  True :  Reals\n",
      "         ('A', 9) :     0 :  None :     1 : False :  True :  Reals\n",
      "        ('A', 10) :     0 :  None :     1 : False :  True :  Reals\n",
      "         ('B', 1) :     0 :  None :     1 : False :  True :  Reals\n",
      "         ('B', 2) :     0 :  None :     1 : False :  True :  Reals\n",
      "         ('B', 3) :     0 :  None :     1 : False :  True :  Reals\n",
      "         ('B', 4) :     0 :  None :     1 : False :  True :  Reals\n",
      "         ('B', 5) :     0 :  None :     1 : False :  True :  Reals\n",
      "         ('B', 6) :     0 :  None :     1 : False :  True :  Reals\n",
      "         ('B', 7) :     0 :  None :     1 : False :  True :  Reals\n",
      "         ('B', 8) :     0 :  None :     1 : False :  True :  Reals\n",
      "         ('B', 9) :     0 :  None :     1 : False :  True :  Reals\n",
      "        ('B', 10) :     0 :  None :     1 : False :  True :  Reals\n",
      "         ('C', 1) :     0 :  None :     1 : False :  True :  Reals\n",
      "         ('C', 2) :     0 :  None :     1 : False :  True :  Reals\n",
      "         ('C', 3) :     0 :  None :     1 : False :  True :  Reals\n",
      "         ('C', 4) :     0 :  None :     1 : False :  True :  Reals\n",
      "         ('C', 5) :     0 :  None :     1 : False :  True :  Reals\n",
      "         ('C', 6) :     0 :  None :     1 : False :  True :  Reals\n",
      "         ('C', 7) :     0 :  None :     1 : False :  True :  Reals\n",
      "         ('C', 8) :     0 :  None :     1 : False :  True :  Reals\n",
      "         ('C', 9) :     0 :  None :     1 : False :  True :  Reals\n",
      "        ('C', 10) :     0 :  None :     1 : False :  True :  Reals\n",
      "\n",
      "  Objectives:\n",
      "    objective : Size=1, Index=None, Active=True\n",
      "ERROR: evaluating object as numeric value: x[A,1]\n",
      "        (object: <class 'pyomo.core.base.var._GeneralVarData'>)\n",
      "    No value for uninitialized NumericValue object x[A,1]\n",
      "ERROR: evaluating object as numeric value: objective\n",
      "        (object: <class 'pyomo.core.base.objective.ScalarObjective'>)\n",
      "    No value for uninitialized NumericValue object x[A,1]\n",
      "        Key : Active : Value\n",
      "        None :   None :  None\n",
      "\n",
      "  Constraints:\n",
      "    tasks_done : Size=10\n",
      "        Key : Lower : Body : Upper\n",
      "          1 :   1.0 : None :   1.0\n",
      "          2 :   1.0 : None :   1.0\n",
      "          3 :   1.0 : None :   1.0\n",
      "          4 :   1.0 : None :   1.0\n",
      "          5 :   1.0 : None :   1.0\n",
      "          6 :   1.0 : None :   1.0\n",
      "          7 :   1.0 : None :   1.0\n",
      "          8 :   1.0 : None :   1.0\n",
      "          9 :   1.0 : None :   1.0\n",
      "         10 :   1.0 : None :   1.0\n",
      "    hour_limit : Size=3\n",
      "        Key : Lower : Body : Upper\n",
      "          1 :  None : None :  40.0\n",
      "          2 :  None : None :  40.0\n",
      "          3 :  None : None :  40.0\n"
     ]
    }
   ],
   "source": [
    "model.display()"
   ]
  },
  {
   "cell_type": "markdown",
   "metadata": {},
   "source": [
    "## Solve and Postprocess"
   ]
  },
  {
   "cell_type": "code",
   "execution_count": 13,
   "metadata": {},
   "outputs": [
    {
     "name": "stdout",
     "output_type": "stream",
     "text": [
      "GLPSOL--GLPK LP/MIP Solver 5.0\n",
      "Parameter(s) specified in the command line:\n",
      " --write /var/folders/4z/k0_krp_j3rj7pszz9zn90fnh0000gn/T/tmpktlf5zwj.glpk.raw\n",
      " --wglp /var/folders/4z/k0_krp_j3rj7pszz9zn90fnh0000gn/T/tmp60un2k4v.glpk.glp\n",
      " --cpxlp /var/folders/4z/k0_krp_j3rj7pszz9zn90fnh0000gn/T/tmprxo794em.pyomo.lp\n",
      "Reading problem data from '/var/folders/4z/k0_krp_j3rj7pszz9zn90fnh0000gn/T/tmprxo794em.pyomo.lp'...\n",
      "13 rows, 30 columns, 60 non-zeros\n",
      "168 lines were read\n",
      "Writing problem data to '/var/folders/4z/k0_krp_j3rj7pszz9zn90fnh0000gn/T/tmp60un2k4v.glpk.glp'...\n",
      "179 lines were written\n",
      "GLPK Simplex Optimizer 5.0\n",
      "13 rows, 30 columns, 60 non-zeros\n",
      "Preprocessing...\n",
      "13 rows, 30 columns, 60 non-zeros\n",
      "Scaling...\n",
      " A: min|aij| =  1.000e+00  max|aij| =  1.000e+03  ratio =  1.000e+03\n",
      "GM: min|aij| =  2.383e-01  max|aij| =  4.197e+00  ratio =  1.761e+01\n",
      "EQ: min|aij| =  5.678e-02  max|aij| =  1.000e+00  ratio =  1.761e+01\n",
      "Constructing initial basis...\n",
      "Size of triangular part is 13\n",
      "      0: obj =   3.084000000e+03 inf =   1.097e+01 (1)\n",
      "     10: obj =   1.002692308e+02 inf =   0.000e+00 (0)\n",
      "*    15: obj =   8.800000000e+01 inf =   2.776e-17 (0)\n",
      "OPTIMAL LP SOLUTION FOUND\n",
      "Time used:   0.0 secs\n",
      "Memory used: 0.1 Mb (54345 bytes)\n",
      "Writing basic solution to '/var/folders/4z/k0_krp_j3rj7pszz9zn90fnh0000gn/T/tmpktlf5zwj.glpk.raw'...\n",
      "52 lines were written\n"
     ]
    }
   ],
   "source": [
    "solver = po.SolverFactory('glpk')\n",
    "results = solver.solve(model, tee=True)"
   ]
  },
  {
   "cell_type": "code",
   "execution_count": 14,
   "metadata": {},
   "outputs": [],
   "source": [
    "df = pd.DataFrame(index=pd.MultiIndex.from_tuples(model.x, names=['w', 't']))\n",
    "df['x'] = [pe.value(model.x[key]) for key in df.index]\n",
    "df['c'] = [model.c[key] for key in df.index]"
   ]
  },
  {
   "cell_type": "code",
   "execution_count": 15,
   "metadata": {},
   "outputs": [
    {
     "data": {
      "text/html": [
       "<div>\n",
       "<style scoped>\n",
       "    .dataframe tbody tr th:only-of-type {\n",
       "        vertical-align: middle;\n",
       "    }\n",
       "\n",
       "    .dataframe tbody tr th {\n",
       "        vertical-align: top;\n",
       "    }\n",
       "\n",
       "    .dataframe thead th {\n",
       "        text-align: right;\n",
       "    }\n",
       "</style>\n",
       "<table border=\"1\" class=\"dataframe\">\n",
       "  <thead>\n",
       "    <tr style=\"text-align: right;\">\n",
       "      <th>t</th>\n",
       "      <th>1</th>\n",
       "      <th>2</th>\n",
       "      <th>3</th>\n",
       "      <th>4</th>\n",
       "      <th>5</th>\n",
       "      <th>6</th>\n",
       "      <th>7</th>\n",
       "      <th>8</th>\n",
       "      <th>9</th>\n",
       "      <th>10</th>\n",
       "    </tr>\n",
       "    <tr>\n",
       "      <th>w</th>\n",
       "      <th></th>\n",
       "      <th></th>\n",
       "      <th></th>\n",
       "      <th></th>\n",
       "      <th></th>\n",
       "      <th></th>\n",
       "      <th></th>\n",
       "      <th></th>\n",
       "      <th></th>\n",
       "      <th></th>\n",
       "    </tr>\n",
       "  </thead>\n",
       "  <tbody>\n",
       "    <tr>\n",
       "      <th>A</th>\n",
       "      <td>0.0</td>\n",
       "      <td>0.0</td>\n",
       "      <td>3.000000e+00</td>\n",
       "      <td>0.0</td>\n",
       "      <td>0.0</td>\n",
       "      <td>9.0</td>\n",
       "      <td>13.0</td>\n",
       "      <td>6.0</td>\n",
       "      <td>0.0</td>\n",
       "      <td>9.0</td>\n",
       "    </tr>\n",
       "    <tr>\n",
       "      <th>B</th>\n",
       "      <td>12.0</td>\n",
       "      <td>5.0</td>\n",
       "      <td>0.000000e+00</td>\n",
       "      <td>0.0</td>\n",
       "      <td>4.0</td>\n",
       "      <td>11.0</td>\n",
       "      <td>0.0</td>\n",
       "      <td>0.0</td>\n",
       "      <td>0.0</td>\n",
       "      <td>0.0</td>\n",
       "    </tr>\n",
       "    <tr>\n",
       "      <th>C</th>\n",
       "      <td>0.0</td>\n",
       "      <td>0.0</td>\n",
       "      <td>-7.244857e-16</td>\n",
       "      <td>8.0</td>\n",
       "      <td>0.0</td>\n",
       "      <td>0.0</td>\n",
       "      <td>0.0</td>\n",
       "      <td>0.0</td>\n",
       "      <td>8.0</td>\n",
       "      <td>0.0</td>\n",
       "    </tr>\n",
       "  </tbody>\n",
       "</table>\n",
       "</div>"
      ],
      "text/plain": [
       "t    1    2             3    4    5     6     7    8    9    10\n",
       "w                                                              \n",
       "A   0.0  0.0  3.000000e+00  0.0  0.0   9.0  13.0  6.0  0.0  9.0\n",
       "B  12.0  5.0  0.000000e+00  0.0  4.0  11.0   0.0  0.0  0.0  0.0\n",
       "C   0.0  0.0 -7.244857e-16  8.0  0.0   0.0   0.0  0.0  8.0  0.0"
      ]
     },
     "execution_count": 15,
     "metadata": {},
     "output_type": "execute_result"
    }
   ],
   "source": [
    "(df['c'] * df['x']).unstack('t')"
   ]
  },
  {
   "cell_type": "code",
   "execution_count": 16,
   "metadata": {},
   "outputs": [
    {
     "data": {
      "text/html": [
       "<div>\n",
       "<style scoped>\n",
       "    .dataframe tbody tr th:only-of-type {\n",
       "        vertical-align: middle;\n",
       "    }\n",
       "\n",
       "    .dataframe tbody tr th {\n",
       "        vertical-align: top;\n",
       "    }\n",
       "\n",
       "    .dataframe thead th {\n",
       "        text-align: right;\n",
       "    }\n",
       "</style>\n",
       "<table border=\"1\" class=\"dataframe\">\n",
       "  <thead>\n",
       "    <tr style=\"text-align: right;\">\n",
       "      <th></th>\n",
       "      <th>0</th>\n",
       "    </tr>\n",
       "    <tr>\n",
       "      <th>w</th>\n",
       "      <th></th>\n",
       "    </tr>\n",
       "  </thead>\n",
       "  <tbody>\n",
       "    <tr>\n",
       "      <th>A</th>\n",
       "      <td>40.0</td>\n",
       "    </tr>\n",
       "    <tr>\n",
       "      <th>B</th>\n",
       "      <td>32.0</td>\n",
       "    </tr>\n",
       "    <tr>\n",
       "      <th>C</th>\n",
       "      <td>16.0</td>\n",
       "    </tr>\n",
       "  </tbody>\n",
       "</table>\n",
       "</div>"
      ],
      "text/plain": [
       "      0\n",
       "w      \n",
       "A  40.0\n",
       "B  32.0\n",
       "C  16.0"
      ]
     },
     "execution_count": 16,
     "metadata": {},
     "output_type": "execute_result"
    }
   ],
   "source": [
    "(df['c'] * df['x']).groupby('w').sum().to_frame()"
   ]
  },
  {
   "cell_type": "code",
   "execution_count": 17,
   "metadata": {},
   "outputs": [
    {
     "data": {
      "text/html": [
       "<div>\n",
       "<style scoped>\n",
       "    .dataframe tbody tr th:only-of-type {\n",
       "        vertical-align: middle;\n",
       "    }\n",
       "\n",
       "    .dataframe tbody tr th {\n",
       "        vertical-align: top;\n",
       "    }\n",
       "\n",
       "    .dataframe thead th {\n",
       "        text-align: right;\n",
       "    }\n",
       "</style>\n",
       "<table border=\"1\" class=\"dataframe\">\n",
       "  <thead>\n",
       "    <tr style=\"text-align: right;\">\n",
       "      <th>t</th>\n",
       "      <th>1</th>\n",
       "      <th>2</th>\n",
       "      <th>3</th>\n",
       "      <th>4</th>\n",
       "      <th>5</th>\n",
       "      <th>6</th>\n",
       "      <th>7</th>\n",
       "      <th>8</th>\n",
       "      <th>9</th>\n",
       "      <th>10</th>\n",
       "    </tr>\n",
       "  </thead>\n",
       "  <tbody>\n",
       "    <tr>\n",
       "      <th>x</th>\n",
       "      <td>1.0</td>\n",
       "      <td>1.0</td>\n",
       "      <td>1.0</td>\n",
       "      <td>1.0</td>\n",
       "      <td>1.0</td>\n",
       "      <td>1.0</td>\n",
       "      <td>1.0</td>\n",
       "      <td>1.0</td>\n",
       "      <td>1.0</td>\n",
       "      <td>1.0</td>\n",
       "    </tr>\n",
       "  </tbody>\n",
       "</table>\n",
       "</div>"
      ],
      "text/plain": [
       "t   1    2    3    4    5    6    7    8    9    10\n",
       "x  1.0  1.0  1.0  1.0  1.0  1.0  1.0  1.0  1.0  1.0"
      ]
     },
     "execution_count": 17,
     "metadata": {},
     "output_type": "execute_result"
    }
   ],
   "source": [
    "df['x'].groupby('t').sum().to_frame().T"
   ]
  }
 ],
 "metadata": {
  "kernelspec": {
   "display_name": "venv_PaperA",
   "language": "python",
   "name": "venv_papera"
  },
  "language_info": {
   "codemirror_mode": {
    "name": "ipython",
    "version": 3
   },
   "file_extension": ".py",
   "mimetype": "text/x-python",
   "name": "python",
   "nbconvert_exporter": "python",
   "pygments_lexer": "ipython3",
   "version": "3.10.5"
  }
 },
 "nbformat": 4,
 "nbformat_minor": 4
}
